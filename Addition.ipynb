{
  "nbformat": 4,
  "nbformat_minor": 0,
  "metadata": {
    "colab": {
      "provenance": []
    },
    "kernelspec": {
      "name": "python3",
      "display_name": "Python 3"
    },
    "language_info": {
      "name": "python"
    }
  },
  "cells": [
    {
      "cell_type": "code",
      "execution_count": 1,
      "metadata": {
        "colab": {
          "base_uri": "https://localhost:8080/"
        },
        "id": "9FI17m60KdEr",
        "outputId": "829d5856-fb5a-4284-acd0-cfb02bab0c6b"
      },
      "outputs": [
        {
          "output_type": "stream",
          "name": "stdout",
          "text": [
            "\u001b[2K     \u001b[90m━━━━━━━━━━━━━━━━━━━━━━━━━━━━━━━━━━━━━━━\u001b[0m \u001b[32m535.3/535.3 kB\u001b[0m \u001b[31m4.6 MB/s\u001b[0m eta \u001b[36m0:00:00\u001b[0m\n",
            "\u001b[2K     \u001b[90m━━━━━━━━━━━━━━━━━━━━━━━━━━━━━━━━━━━━━━━\u001b[0m \u001b[32m286.2/286.2 kB\u001b[0m \u001b[31m4.2 MB/s\u001b[0m eta \u001b[36m0:00:00\u001b[0m\n",
            "\u001b[?25h  Installing build dependencies ... \u001b[?25l\u001b[?25hdone\n",
            "  Getting requirements to build wheel ... \u001b[?25l\u001b[?25hdone\n",
            "  Preparing metadata (pyproject.toml) ... \u001b[?25l\u001b[?25hdone\n",
            "  Building wheel for nengo-dl (pyproject.toml) ... \u001b[?25l\u001b[?25hdone\n",
            "\u001b[2K     \u001b[90m━━━━━━━━━━━━━━━━━━━━━━━━━━━━━━━━━━━━━━━\u001b[0m \u001b[32m189.1/189.1 kB\u001b[0m \u001b[31m3.3 MB/s\u001b[0m eta \u001b[36m0:00:00\u001b[0m\n",
            "\u001b[2K     \u001b[90m━━━━━━━━━━━━━━━━━━━━━━━━━━━━━━━━━━━━━━━━\u001b[0m \u001b[32m83.7/83.7 kB\u001b[0m \u001b[31m2.4 MB/s\u001b[0m eta \u001b[36m0:00:00\u001b[0m\n",
            "\u001b[2K     \u001b[90m━━━━━━━━━━━━━━━━━━━━━━━━━━━━━━━━━━━━━━━\u001b[0m \u001b[32m843.7/843.7 kB\u001b[0m \u001b[31m5.9 MB/s\u001b[0m eta \u001b[36m0:00:00\u001b[0m\n",
            "\u001b[?25h"
          ]
        }
      ],
      "source": [
        "!pip install nengo --quiet\n",
        "!pip install nengo-dl --quiet\n",
        "!pip install nengo-loihi --quiet\n",
        "!pip install nengo-extras==0.5.0 --quiet\n",
        "!pip install nengo-gui --quiet"
      ]
    },
    {
      "cell_type": "code",
      "source": [
        "# Setup the environment\n",
        "import nengo\n",
        "from nengo.dists import Uniform\n",
        "from nengo.processes import Piecewise"
      ],
      "metadata": {
        "id": "_P6aUSH0LYaL"
      },
      "execution_count": 2,
      "outputs": []
    },
    {
      "cell_type": "code",
      "source": [
        "# Create the network object to which we can add ensembles, connections, etc.\n",
        "model = nengo.Network(label=\"Scalar Addition\")\n",
        "\n",
        "with model:\n",
        "    # Inputs to drive the activity in ensembles A and B\n",
        "    stim_A = nengo.Node(\n",
        "        Piecewise({0: -0.75, 1.25: 0.5, 2.5: 0.70, 3.75: 0}), label=\"Input A\"\n",
        "    )\n",
        "    stim_B = nengo.Node(\n",
        "        Piecewise({0: 0.25, 1.25: -0.5, 2.5: 0.85, 3.75: 0}), label=\"Input B\"\n",
        "    )\n",
        "\n",
        "    # Ensembles with 100 LIF neurons each\n",
        "    # Represents the first input (A)\n",
        "    ens_A = nengo.Ensemble(100, dimensions=1, max_rates=Uniform(100, 200), label=\"A\")\n",
        "    # Represents the second input (B)\n",
        "    ens_B = nengo.Ensemble(100, dimensions=1, max_rates=Uniform(100, 200), label=\"B\")\n",
        "    # Represents the sum of two inputs\n",
        "    ens_sum = nengo.Ensemble(\n",
        "        100, dimensions=1, max_rates=Uniform(100, 200), radius=2, label=\"Sum\"\n",
        "    )\n",
        "\n",
        "    # Connecting the input nodes to ensembles\n",
        "    nengo.Connection(stim_A, ens_A)\n",
        "    nengo.Connection(stim_B, ens_B)\n",
        "\n",
        "    # Connecting ensembles A and B to the Sum ensemble\n",
        "    nengo.Connection(ens_A, ens_sum)\n",
        "    nengo.Connection(ens_B, ens_sum)"
      ],
      "metadata": {
        "id": "klHUtcT4LhkC"
      },
      "execution_count": 3,
      "outputs": []
    },
    {
      "cell_type": "code",
      "source": [
        "with model:\n",
        "    input_A_probe = nengo.Probe(stim_A)  # Input to ensemble A\n",
        "    input_B_probe = nengo.Probe(stim_B)  # Input to ensemble B\n",
        "    A_probe = nengo.Probe(ens_A, synapse=0.01)  # Decoded output of ensemble A\n",
        "    B_probe = nengo.Probe(ens_B, synapse=0.01)  # Decoded output of ensemble B\n",
        "    sum_probe = nengo.Probe(ens_sum, synapse=0.01)  # Decoded output of Sum ensemble"
      ],
      "metadata": {
        "id": "S1KV0J22LmCD"
      },
      "execution_count": 4,
      "outputs": []
    },
    {
      "cell_type": "code",
      "source": [
        "from nengo_gui.ipython import IPythonViz\n",
        "\n",
        "IPythonViz(model, \"ch3-addition.py.cfg\")"
      ],
      "metadata": {
        "id": "5AFQuZOKLoQr"
      },
      "execution_count": null,
      "outputs": []
    }
  ]
}